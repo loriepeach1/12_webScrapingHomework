{
 "cells": [
  {
   "cell_type": "code",
   "execution_count": null,
   "metadata": {},
   "outputs": [],
   "source": [
    "# Dependencies\n",
    "from bs4 import BeautifulSoup as bs\n",
    "import requests\n",
    "import pymongo\n",
    "import pandas as pd"
   ]
  },
  {
   "cell_type": "markdown",
   "metadata": {},
   "source": [
    "## Step 1 - Scraping\n",
    "Complete your initial scraping using Jupyter Notebook, BeautifulSoup, Pandas, and Requests/Splinter.\n",
    "\n",
    "<P> Create a Jupyter Notebook file called mission_to_mars.ipynb and use this to complete all of your scraping and analysis tasks. The following outlines what you need to scrape."
   ]
  },
  {
   "cell_type": "markdown",
   "metadata": {},
   "source": [
    "### Part 1.1 - NASA Mars News\n",
    "\n",
    "Scrape the NASA Mars News Site and collect the latest News Title and Paragraph Text. Assign the text to variables that you can reference later.  https://mars.nasa.gov/news/"
   ]
  },
  {
   "cell_type": "code",
   "execution_count": null,
   "metadata": {},
   "outputs": [],
   "source": [
    "# Initialize PyMongo to work with MongoDBs\n",
    "conn = 'mongodb://localhost:27017'\n",
    "client = pymongo.MongoClient(conn)"
   ]
  },
  {
   "cell_type": "code",
   "execution_count": null,
   "metadata": {},
   "outputs": [],
   "source": [
    "# Define database and collection\n",
    "db = client.marsArticles_db\n",
    "collection = db.articles"
   ]
  },
  {
   "cell_type": "code",
   "execution_count": null,
   "metadata": {},
   "outputs": [],
   "source": [
    "# URL of page to be scraped\n",
    "url = 'https://mars.nasa.gov/news/'"
   ]
  },
  {
   "cell_type": "code",
   "execution_count": null,
   "metadata": {},
   "outputs": [],
   "source": [
    "# Retrieve page with the requests module\n",
    "response = requests.get(url)"
   ]
  },
  {
   "cell_type": "code",
   "execution_count": null,
   "metadata": {},
   "outputs": [],
   "source": [
    "# Create BeautifulSoup object; parse with 'html.parser'\n",
    "soup = BeautifulSoup(response.text, 'html.parser')\n",
    "#soup = BeautifulSoup(response.text, 'lxml')\n"
   ]
  },
  {
   "cell_type": "code",
   "execution_count": null,
   "metadata": {},
   "outputs": [],
   "source": [
    "#find the container which hold each article title and description\n",
    "#results are returned as an iterable list\n",
    "results = soup.find_all('div', class_='slide')"
   ]
  },
  {
   "cell_type": "code",
   "execution_count": null,
   "metadata": {},
   "outputs": [],
   "source": [
    "#view the results to confirm the data.  'eyeball check'\n",
    "print(results)"
   ]
  },
  {
   "cell_type": "code",
   "execution_count": null,
   "metadata": {},
   "outputs": [],
   "source": [
    "# Loop through returned results\n",
    "for result in results:\n",
    "    # Error handling\n",
    "    try:\n",
    "        # Identify and return title of listing\n",
    "        news_title = result.find('div', class_=\"content_title\").text.strip()\n",
    "        #Identify the news text\n",
    "        news_text = result.find('div', class_=\"rollover_description_inner\").text.strip()\n",
    "\n",
    "\n",
    "        # Print results only if news title and news text are available\n",
    "        if (news_title and news_text):\n",
    "            print('-------------')\n",
    "            print(news_title)\n",
    "            print(news_text)\n",
    "            \n",
    "         # Dictionary to be inserted as a MongoDB document\n",
    "            post = {\n",
    "                'news_title': news_title,\n",
    "                'news_text': news_text\n",
    "            }\n",
    "\n",
    "            collection.insert_one(post)\n",
    "            \n",
    "    except AttributeError as e:\n",
    "        print(e)\n",
    "        \n",
    "    \n",
    "# ??   how do  I remove the extra hard returns?"
   ]
  },
  {
   "cell_type": "code",
   "execution_count": null,
   "metadata": {},
   "outputs": [],
   "source": [
    "# Display items in MongoDB collection\n",
    "listings = db.articles.find()\n",
    "\n",
    "for listing in listings:\n",
    "    print(listing)\n"
   ]
  },
  {
   "cell_type": "markdown",
   "metadata": {},
   "source": [
    "#### Part 1.1 is complete.   \n",
    "The page has been scraped and the results stored in the articles collection of a mongo database.   within the collection, the variable names are:    news_title and news_text"
   ]
  },
  {
   "cell_type": "markdown",
   "metadata": {},
   "source": [
    "### Part 1.2 - JPL Mars Space Images - Featured Image\n",
    "\n",
    "\n",
    "* Visit the url for JPL Featured Space Image here.  https://www.jpl.nasa.gov/spaceimages/?search=&category=Mars\n",
    "\n",
    "\n",
    "* Use splinter to navigate the site and find the image url for the current Featured Mars Image and assign the url string to a variable called featured_image_url.\n",
    "\n",
    "\n",
    "* Make sure to find the image url to the full size .jpg image.\n",
    "\n",
    "\n",
    "* Make sure to save a complete url string for this image."
   ]
  },
  {
   "cell_type": "code",
   "execution_count": null,
   "metadata": {},
   "outputs": [],
   "source": [
    "#NOTE:   I did not use splinter.  Re:  it was not needed as all the links were provided in the HTML.\n",
    "\n",
    "#ensure Chrome Driver is in the same directory as this notebook.   (Different for MAC user)\n",
    "executable_path = {'executable_path': 'chromedriver.exe'}\n",
    "browser = Browser('chrome', **executable_path, headless=False)\n",
    "\n",
    "#navigate to the site which will be scraped\n",
    "urlBase = 'https://www.jpl.nasa.gov'\n",
    "urlSearch = '/spaceimages/?search=&category=Mars'\n",
    "url12 = urlBase + urlSearch\n",
    "browser.visit(url12)"
   ]
  },
  {
   "cell_type": "code",
   "execution_count": null,
   "metadata": {},
   "outputs": [],
   "source": [
    "print(url12)"
   ]
  },
  {
   "cell_type": "markdown",
   "metadata": {},
   "source": [
    "Lorie's notes for location of the images\n",
    "\n",
    "The 'Full Image button has the following:\n",
    "<P>\n",
    "<a class=\"button fancybox\" data-description=\"Like a drop of dew hanging on a leaf, Tethys appears to be stuck to the A and F rings from this perspective of NASA's Cassini spacecraft.\" data-fancybox-group=\"images\" data-fancybox-href=\"/spaceimages/images/mediumsize/PIA18284_ip.jpg\" data-link=\"/spaceimages/details.php?id=PIA18284\" data-title=\"Stuck on the Rings\" id=\"full_image\">\n",
    "    \n",
    "*data-fancybox-href is to a medium sized image - THIS ONE IS INCORRECT.  Need the full resolution, not the medium size.\n",
    "    <BR>**https://www.jpl.nasa.gov/spaceimages/images/mediumsize/PIA18284_ip.jpg\n",
    "\n",
    "*data-link is to a page with the image and details.  From this page there is a link to DOWNLOAD the full resolution TFF and  vIEW the JPG\n",
    "    <BR>**https://www.jpl.nasa.gov/spaceimages/details.php?id=PIA18284\n",
    "    \n",
    "Full TIFF - not needed for this project\n",
    " https://photojournal.jpl.nasa.gov/tiff/PIA18284.tif\n",
    "\n",
    "FULL JPG - this is needed.   Will be saved as a variable.\n",
    "https://photojournal.jpl.nasa.gov/jpeg/PIA18284.jpg"
   ]
  },
  {
   "cell_type": "code",
   "execution_count": null,
   "metadata": {},
   "outputs": [],
   "source": [
    "# Retrieve page with the requests module\n",
    "response12 = requests.get(url12)"
   ]
  },
  {
   "cell_type": "code",
   "execution_count": null,
   "metadata": {},
   "outputs": [],
   "source": [
    "# Create BeautifulSoup object of this URL with the featured image; parse with 'html.parser'\n",
    "soup12 = BeautifulSoup(response12.text, 'html.parser')"
   ]
  },
  {
   "cell_type": "code",
   "execution_count": null,
   "metadata": {},
   "outputs": [],
   "source": [
    "#view to ensure the correct data ie, page\n",
    "print(soup12.prettify())"
   ]
  },
  {
   "cell_type": "code",
   "execution_count": null,
   "metadata": {},
   "outputs": [],
   "source": [
    "#from the beautifulSoup, retrieve the link for the page containing the details of the image.  attribute = data-link.    \n",
    "#attribute is NOT data-fancybox-href.   This is a link to the MEDIUM sized image.  We need the full size image. \n",
    "\n",
    "imagePageDesc = soup12.find('a',{\"class\": \"button fancybox\"})['data-link']\n",
    "print(imagePageDesc)"
   ]
  },
  {
   "cell_type": "code",
   "execution_count": null,
   "metadata": {},
   "outputs": [],
   "source": [
    "#Create the URL to the description Page\n",
    "url12a = urlBase + imagePageDesc\n",
    "print(url12a)"
   ]
  },
  {
   "cell_type": "code",
   "execution_count": null,
   "metadata": {},
   "outputs": [],
   "source": [
    "#the description page contains links to TWO images:   TFF and JPG.   \n",
    "# Retrieve page with the requests module\n",
    "response12a = requests.get(url12a)"
   ]
  },
  {
   "cell_type": "code",
   "execution_count": null,
   "metadata": {},
   "outputs": [],
   "source": [
    "# Create BeautifulSoup object of this URL with the featured image; parse with 'html.parser'\n",
    "soup12a = BeautifulSoup(response12a.text, 'html.parser')"
   ]
  },
  {
   "cell_type": "code",
   "execution_count": null,
   "metadata": {},
   "outputs": [],
   "source": [
    "#view to ensure the correct data ie, page\n",
    "print(soup12a.prettify())"
   ]
  },
  {
   "cell_type": "code",
   "execution_count": null,
   "metadata": {},
   "outputs": [],
   "source": [
    "#from the beautifulSoup, find the links to the images\n",
    "images = soup12a.find_all('div',{\"class\": \"download_tiff\"})\n",
    "print(images)"
   ]
  },
  {
   "cell_type": "code",
   "execution_count": null,
   "metadata": {},
   "outputs": [],
   "source": [
    "#data containign the JPG details\n",
    "imageDataJ = soup12a.find_all('div',{\"class\": \"download_tiff\"})[1]\n",
    "print(imageDataJ)"
   ]
  },
  {
   "cell_type": "code",
   "execution_count": null,
   "metadata": {},
   "outputs": [],
   "source": [
    "#URL for the JPG Image\n",
    "imageJ = imageDataJ.find('a')['href']\n",
    "print(imageJ)"
   ]
  },
  {
   "cell_type": "code",
   "execution_count": null,
   "metadata": {},
   "outputs": [],
   "source": [
    "#Create theURLs for both images\n",
    "imageBase = \"https:\"\n",
    "imageLinkJ = imageBase + imageJ\n",
    "\n",
    "print(\"The URL for the jpg image is: \" + imageLinkJ)"
   ]
  },
  {
   "cell_type": "markdown",
   "metadata": {},
   "source": [
    "#### Part 1.2 is complete.  "
   ]
  },
  {
   "cell_type": "markdown",
   "metadata": {},
   "source": [
    "### Part 1.3 - Mars Weather\n",
    "\n",
    "Visit the Mars Weather twitter account here and scrape the latest Mars weather tweet from the page. Save the tweet text for the weather report as a variable called mars_weather.\n",
    "https://twitter.com/marswxreport?lang=en"
   ]
  },
  {
   "cell_type": "code",
   "execution_count": null,
   "metadata": {},
   "outputs": [],
   "source": [
    "#ensure Chrome Driver is in the same directory as this notebook.   (Different for MAC user)\n",
    "#DO NOT NEED TO DO since this was completed in this notebook in part 1.2\n",
    "#executable_path = {'executable_path': 'chromedriver.exe'}\n",
    "#browser = Browser('chrome', **executable_path, headless=False)\n",
    "\n",
    "#navigate to the site which will be scraped\n",
    "url13 = 'https://twitter.com/marswxreport?lang=en'\n",
    "browser.visit(url13)"
   ]
  },
  {
   "cell_type": "code",
   "execution_count": null,
   "metadata": {},
   "outputs": [],
   "source": [
    "# Retrieve page with the requests module\n",
    "response13 = requests.get(url13)"
   ]
  },
  {
   "cell_type": "code",
   "execution_count": null,
   "metadata": {},
   "outputs": [],
   "source": [
    "# Create BeautifulSoup object of this URL with the featured image; parse with 'html.parser'\n",
    "soup13 = BeautifulSoup(response13.text, 'html.parser')"
   ]
  },
  {
   "cell_type": "code",
   "execution_count": null,
   "metadata": {},
   "outputs": [],
   "source": [
    "#view to ensure the correct data ie, page\n",
    "print(soup13.prettify())"
   ]
  },
  {
   "cell_type": "code",
   "execution_count": null,
   "metadata": {},
   "outputs": [],
   "source": [
    "#from the beautifulSoup, retrieve the link for the page containing the details of the image.  attribute = data-link.    \n",
    "#NOTE:  since the instructions were to retrieve only the first weather report, then no index numbers\n",
    "#because the first record is always returned\n",
    "\n",
    "#as per example in homework instruction, the leading 'Insight' should not be present.\n",
    "#Therefore, this was added:   .split(None, 1)[1]\n",
    "\n",
    "latestWeather = soup13.find('div',{\"class\": \"js-tweet-text-container\"}).text.split(None, 1)[1]\n",
    "print(latestWeather)"
   ]
  },
  {
   "cell_type": "markdown",
   "metadata": {},
   "source": [
    "#### Part 1.3 is complete.  "
   ]
  },
  {
   "cell_type": "markdown",
   "metadata": {},
   "source": [
    "### Part 1.4 - Mars Facts\n",
    "\n",
    "\n",
    "* Visit the Mars Facts webpage here and use Pandas to scrape the table containing facts about the planet including Diameter, Mass, etc.\n",
    "https://space-facts.com/mars/\n",
    "\n",
    "\n",
    "* Use Pandas to convert the data to a HTML table string."
   ]
  },
  {
   "cell_type": "code",
   "execution_count": null,
   "metadata": {},
   "outputs": [],
   "source": [
    "#ASSUMPTION:    the entire page is called Mars Facts.   After viewing the HTML code, there is only one <table> element.   \n",
    "# Therefore, I think this is the table referenced in the instructions."
   ]
  },
  {
   "cell_type": "code",
   "execution_count": null,
   "metadata": {},
   "outputs": [],
   "source": [
    "#if not already completed:\n",
    "#import pandas as pd \n",
    "\n",
    "#define the url\n",
    "url14 = 'https://space-facts.com/mars/'"
   ]
  },
  {
   "cell_type": "code",
   "execution_count": null,
   "metadata": {},
   "outputs": [],
   "source": [
    "#this will return all tables found.  on this page, there is only one table.\n",
    "\n",
    "tables = pd.read_html(url14)\n",
    "tables"
   ]
  },
  {
   "cell_type": "code",
   "execution_count": null,
   "metadata": {},
   "outputs": [],
   "source": [
    "type(tables)"
   ]
  },
  {
   "cell_type": "code",
   "execution_count": null,
   "metadata": {},
   "outputs": [],
   "source": [
    "#convert the table to a dataframe.   NOTE:   the [0] indicates the first table.  If there were more than one, remember to set the index.\n",
    "marsFacts_df = tables[0]\n",
    "marsFacts_df.columns = ['FactName', 'FactValue']\n",
    "marsFacts_df.head(20)"
   ]
  },
  {
   "cell_type": "code",
   "execution_count": null,
   "metadata": {},
   "outputs": [],
   "source": [
    "#now that we have the df, convert it back to an HTML table\n",
    "\n",
    "mars_HTML_table = marsFacts_df.to_html()\n",
    "mars_HTML_table"
   ]
  },
  {
   "cell_type": "markdown",
   "metadata": {},
   "source": [
    "#### Part 1.4 is complete.  "
   ]
  },
  {
   "cell_type": "markdown",
   "metadata": {},
   "source": [
    "### Part 1.5 - Mars Hemispheres\n",
    "\n",
    "\n",
    "* Visit the USGS Astrogeology site here to obtain high resolution images for each of Mar's hemispheres.  https://astrogeology.usgs.gov/search/results?q=hemisphere+enhanced&k1=target&v1=Mars\n",
    "\n",
    "\n",
    "* You will need to click each of the links to the hemispheres in order to find the image url to the full resolution image.\n",
    "\n",
    "\n",
    "* Save both the image url string for the full resolution hemisphere image, and the Hemisphere title containing the hemisphere name. Use a Python dictionary to store the data using the keys img_url and title.\n",
    "\n",
    "\n",
    "* Append the dictionary with the image url string and the hemisphere title to a list. This list will contain one dictionary for each hemisphere."
   ]
  },
  {
   "cell_type": "code",
   "execution_count": 913,
   "metadata": {},
   "outputs": [
    {
     "name": "stdout",
     "output_type": "stream",
     "text": [
      "https://astrogeology.usgs.gov/search/results?q=hemisphere+enhanced&k1=target&v1=Mars\n"
     ]
    }
   ],
   "source": [
    "#if not already completed, do this:  (completed in step 1.2)\n",
    "executable_path = {'executable_path': 'chromedriver.exe'}\n",
    "browser = Browser('chrome', **executable_path, headless=False)\n",
    "\n",
    "#navigate to the site which will be scraped\n",
    "url15base = 'https://astrogeology.usgs.gov'\n",
    "url15_orig = '/search/results?q=hemisphere+enhanced&k1=target&v1=Mars'\n",
    "url15 = url15base + url15_orig\n",
    "browser.visit(url15)\n",
    "print(url15)"
   ]
  },
  {
   "cell_type": "code",
   "execution_count": 914,
   "metadata": {},
   "outputs": [],
   "source": [
    "# results are returned as an iterable list\n",
    "#results = soup15a.find_all('div', class_=\"item\")"
   ]
  },
  {
   "cell_type": "code",
   "execution_count": 915,
   "metadata": {},
   "outputs": [],
   "source": [
    "# HTML object\n",
    "html = browser.html\n",
    "# Parse HTML with Beautiful Soup\n",
    "soup15 = BeautifulSoup(html, 'html.parser')\n",
    "\n",
    "# Retrieve all elements that contain hemisphere information\n",
    "allList = soup15.find_all('div', class_=\"item\")\n",
    "#print(allList) #eyeball check"
   ]
  },
  {
   "cell_type": "code",
   "execution_count": 916,
   "metadata": {},
   "outputs": [
    {
     "name": "stdout",
     "output_type": "stream",
     "text": [
      "-----------\n",
      "Cerberus Hemisphere\n",
      "https://astrogeology.usgs.gov/search/map/Mars/Viking/cerberus_enhanced\n",
      "-----------\n",
      "Schiaparelli Hemisphere\n",
      "https://astrogeology.usgs.gov/search/map/Mars/Viking/schiaparelli_enhanced\n",
      "-----------\n",
      "Syrtis Major Hemisphere\n",
      "https://astrogeology.usgs.gov/search/map/Mars/Viking/syrtis_major_enhanced\n",
      "-----------\n",
      "Valles Marineris Hemisphere\n",
      "https://astrogeology.usgs.gov/search/map/Mars/Viking/valles_marineris_enhanced\n"
     ]
    }
   ],
   "source": [
    "#declare variables\n",
    "title = []\n",
    "page_url_list15 = []\n",
    "\n",
    "# Iterate through each div item\n",
    "for each in allList:\n",
    "    \n",
    "    #  retrieve the hemishpere title\n",
    "    # to remove the last word use reverse split\n",
    "    title15 = each.h3.text.rsplit(' ', 1)[0]\n",
    "    title.append(title15)\n",
    "    \n",
    "    #  retrieve the URL for the page containing the link to the image\n",
    "    linkExt = each.a['href']\n",
    "    page_url_15 = url15base + linkExt\n",
    "    page_url_list15.append(page_url_15)\n",
    "\n",
    "    print('-----------')\n",
    "    print(title15)\n",
    "    print(page_url_15)"
   ]
  },
  {
   "cell_type": "code",
   "execution_count": 917,
   "metadata": {},
   "outputs": [
    {
     "name": "stdout",
     "output_type": "stream",
     "text": [
      "['https://astrogeology.usgs.gov/search/map/Mars/Viking/cerberus_enhanced', 'https://astrogeology.usgs.gov/search/map/Mars/Viking/schiaparelli_enhanced', 'https://astrogeology.usgs.gov/search/map/Mars/Viking/syrtis_major_enhanced', 'https://astrogeology.usgs.gov/search/map/Mars/Viking/valles_marineris_enhanced']\n"
     ]
    }
   ],
   "source": [
    "#eyeball check\n",
    "print(page_url_list15)"
   ]
  },
  {
   "cell_type": "code",
   "execution_count": 918,
   "metadata": {},
   "outputs": [
    {
     "name": "stdout",
     "output_type": "stream",
     "text": [
      "['Cerberus Hemisphere', 'Schiaparelli Hemisphere', 'Syrtis Major Hemisphere', 'Valles Marineris Hemisphere']\n"
     ]
    }
   ],
   "source": [
    "#eyeball check\n",
    "print(title)"
   ]
  },
  {
   "cell_type": "code",
   "execution_count": 919,
   "metadata": {},
   "outputs": [],
   "source": [
    "##############################################################\n",
    "# now obtain the links to the high resolution jpg image\n",
    "##############################################################"
   ]
  },
  {
   "cell_type": "code",
   "execution_count": 920,
   "metadata": {},
   "outputs": [
    {
     "name": "stdout",
     "output_type": "stream",
     "text": [
      "-----------\n",
      "http://astropedia.astrogeology.usgs.gov/download/Mars/Viking/cerberus_enhanced.tif/full.jpg\n",
      "-----------\n",
      "http://astropedia.astrogeology.usgs.gov/download/Mars/Viking/schiaparelli_enhanced.tif/full.jpg\n",
      "-----------\n",
      "http://astropedia.astrogeology.usgs.gov/download/Mars/Viking/syrtis_major_enhanced.tif/full.jpg\n",
      "-----------\n",
      "http://astropedia.astrogeology.usgs.gov/download/Mars/Viking/valles_marineris_enhanced.tif/full.jpg\n"
     ]
    }
   ],
   "source": [
    "#go to each page which will be scraped\n",
    "\n",
    "#define an empty list for the image URLs\n",
    "img_url = []\n",
    "\n",
    "try: \n",
    "    for each in page_url_list15:\n",
    "\n",
    "        #create results for that page\n",
    "        browser.visit(each)\n",
    "\n",
    "        # HTML object\n",
    "        html = browser.html\n",
    "        # Parse HTML with Beautiful Soup\n",
    "        soup15b = BeautifulSoup(html, 'html.parser')\n",
    "    \n",
    "        # Retrieve all elements that contain hemisphere information\n",
    "        allDownload = soup15b.find_all('div', class_=\"downloads\")\n",
    "        #print(allDownload)\n",
    "    \n",
    "        for each in allDownload:\n",
    "            # retrieve the image URL\n",
    "            imageURL15 = each.a['href']\n",
    "    \n",
    "            print('-----------')\n",
    "            print(imageURL15)\n",
    "                \n",
    "            img_url.append(imageURL15)\n",
    " \n",
    "except:\n",
    "    print(\"The page structure is not as expected.  Please check the webpages have not changed HTML structure.  Error code: 1.5\")"
   ]
  },
  {
   "cell_type": "code",
   "execution_count": 921,
   "metadata": {},
   "outputs": [
    {
     "name": "stdout",
     "output_type": "stream",
     "text": [
      "['http://astropedia.astrogeology.usgs.gov/download/Mars/Viking/cerberus_enhanced.tif/full.jpg', 'http://astropedia.astrogeology.usgs.gov/download/Mars/Viking/schiaparelli_enhanced.tif/full.jpg', 'http://astropedia.astrogeology.usgs.gov/download/Mars/Viking/syrtis_major_enhanced.tif/full.jpg', 'http://astropedia.astrogeology.usgs.gov/download/Mars/Viking/valles_marineris_enhanced.tif/full.jpg']\n"
     ]
    }
   ],
   "source": [
    "print(img_url)"
   ]
  },
  {
   "cell_type": "code",
   "execution_count": 922,
   "metadata": {},
   "outputs": [],
   "source": [
    "##############################################################\n",
    "# now that I have two lists, create a dictionary\n",
    "# list of hemisphere titles =  title\n",
    "# list of image URLS = img_url\n",
    "##############################################################\n",
    "#  ??  stuck - neither of these are correct per the example in the homework"
   ]
  },
  {
   "cell_type": "code",
   "execution_count": 923,
   "metadata": {},
   "outputs": [],
   "source": [
    "hemisphere_image_urls = dict(zip(title, img_url))"
   ]
  },
  {
   "cell_type": "code",
   "execution_count": 924,
   "metadata": {},
   "outputs": [
    {
     "name": "stdout",
     "output_type": "stream",
     "text": [
      "{'Cerberus Hemisphere': 'http://astropedia.astrogeology.usgs.gov/download/Mars/Viking/cerberus_enhanced.tif/full.jpg', 'Schiaparelli Hemisphere': 'http://astropedia.astrogeology.usgs.gov/download/Mars/Viking/schiaparelli_enhanced.tif/full.jpg', 'Syrtis Major Hemisphere': 'http://astropedia.astrogeology.usgs.gov/download/Mars/Viking/syrtis_major_enhanced.tif/full.jpg', 'Valles Marineris Hemisphere': 'http://astropedia.astrogeology.usgs.gov/download/Mars/Viking/valles_marineris_enhanced.tif/full.jpg'}\n"
     ]
    }
   ],
   "source": [
    "print (hemisphere_image_urls)"
   ]
  },
  {
   "cell_type": "code",
   "execution_count": 927,
   "metadata": {},
   "outputs": [],
   "source": [
    "new_dict = {\"title\": [title], \"img_url\" : [img_url]}"
   ]
  },
  {
   "cell_type": "code",
   "execution_count": 928,
   "metadata": {},
   "outputs": [
    {
     "name": "stdout",
     "output_type": "stream",
     "text": [
      "{'title': [['Cerberus Hemisphere', 'Schiaparelli Hemisphere', 'Syrtis Major Hemisphere', 'Valles Marineris Hemisphere']], 'img_url': [['http://astropedia.astrogeology.usgs.gov/download/Mars/Viking/cerberus_enhanced.tif/full.jpg', 'http://astropedia.astrogeology.usgs.gov/download/Mars/Viking/schiaparelli_enhanced.tif/full.jpg', 'http://astropedia.astrogeology.usgs.gov/download/Mars/Viking/syrtis_major_enhanced.tif/full.jpg', 'http://astropedia.astrogeology.usgs.gov/download/Mars/Viking/valles_marineris_enhanced.tif/full.jpg']]}\n"
     ]
    }
   ],
   "source": [
    "print(new_dict)"
   ]
  },
  {
   "cell_type": "code",
   "execution_count": null,
   "metadata": {},
   "outputs": [],
   "source": []
  }
 ],
 "metadata": {
  "kernelspec": {
   "display_name": "Python 3",
   "language": "python",
   "name": "python3"
  },
  "language_info": {
   "codemirror_mode": {
    "name": "ipython",
    "version": 3
   },
   "file_extension": ".py",
   "mimetype": "text/x-python",
   "name": "python",
   "nbconvert_exporter": "python",
   "pygments_lexer": "ipython3",
   "version": "3.7.1"
  }
 },
 "nbformat": 4,
 "nbformat_minor": 2
}
