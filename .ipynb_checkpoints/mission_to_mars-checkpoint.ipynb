{
 "cells": [
  {
   "cell_type": "code",
   "execution_count": 9,
   "metadata": {},
   "outputs": [],
   "source": [
    "#import dependencies\n",
    "from splinter import Browser\n",
    "import requests\n",
    "from bs4 import BeautifulSoup as bs\n",
    "import pandas as pd\n",
    "import datetime as dt"
   ]
  },
  {
   "cell_type": "code",
   "execution_count": 10,
   "metadata": {},
   "outputs": [],
   "source": [
    "def init_browser():\n",
    "    # @NOTE: ensure chromedriver.exe is in the same directory as this file.  OR, change path\n",
    "    executable_path = {\"executable_path\": \"chromedriver\"}\n",
    "    return Browser(\"chrome\", **executable_path, headless=False)"
   ]
  },
  {
   "cell_type": "code",
   "execution_count": 11,
   "metadata": {},
   "outputs": [],
   "source": [
    "#this section applies to all fucntions created in this file\n",
    "\n",
    "def scrape_all():\n",
    "\n",
    "    # Initiate driver - confirm chromedrive.exe is in the same directory as this file NOTE:   different for MAC users\n",
    "    browser = Browser(\"chrome\", executable_path=\"chromedriver\", headless=True)\n",
    "    news_title, news_p = mars_news()\n",
    "\n",
    "    # Each scraping function will store the results in a dictionary.   Define the dictionaries.\n",
    "    data = {\n",
    "        \"news_title\": news_title,\n",
    "        \"news_paragraph\": news_p,\n",
    "        \"featured_image\": featured_image(),\n",
    "        \"hemispheres\": hemispheres(),\n",
    "        \"weather\": twitter_weather(),\n",
    "        \"facts\": mars_facts(),\n",
    "        \"last_modified\": dt.datetime.now()\n",
    "    }\n",
    "\n",
    "    # Stop webdriver and return data\n",
    "    browser.quit()\n",
    "    return data\n"
   ]
  },
  {
   "cell_type": "code",
   "execution_count": 12,
   "metadata": {},
   "outputs": [
    {
     "ename": "NameError",
     "evalue": "name 'news_title' is not defined",
     "output_type": "error",
     "traceback": [
      "\u001b[1;31m---------------------------------------------------------------------------\u001b[0m",
      "\u001b[1;31mNameError\u001b[0m                                 Traceback (most recent call last)",
      "\u001b[1;32m<ipython-input-12-8eb40295d3fa>\u001b[0m in \u001b[0;36m<module>\u001b[1;34m\u001b[0m\n\u001b[1;32m----> 1\u001b[1;33m \u001b[0mscrape_all\u001b[0m\u001b[1;33m(\u001b[0m\u001b[1;33m)\u001b[0m\u001b[1;33m\u001b[0m\u001b[1;33m\u001b[0m\u001b[0m\n\u001b[0m",
      "\u001b[1;32m<ipython-input-11-16fbab84a486>\u001b[0m in \u001b[0;36mscrape_all\u001b[1;34m()\u001b[0m\n\u001b[0;32m      9\u001b[0m     \u001b[1;31m# Each scraping function will store the results in a dictionary.   Define the dictionaries.\u001b[0m\u001b[1;33m\u001b[0m\u001b[1;33m\u001b[0m\u001b[1;33m\u001b[0m\u001b[0m\n\u001b[0;32m     10\u001b[0m     data = {\n\u001b[1;32m---> 11\u001b[1;33m         \u001b[1;34m\"news_title\"\u001b[0m\u001b[1;33m:\u001b[0m \u001b[0mnews_title\u001b[0m\u001b[1;33m,\u001b[0m\u001b[1;33m\u001b[0m\u001b[1;33m\u001b[0m\u001b[0m\n\u001b[0m\u001b[0;32m     12\u001b[0m         \u001b[1;34m\"news_paragraph\"\u001b[0m\u001b[1;33m:\u001b[0m \u001b[0mnews_p\u001b[0m\u001b[1;33m,\u001b[0m\u001b[1;33m\u001b[0m\u001b[1;33m\u001b[0m\u001b[0m\n\u001b[0;32m     13\u001b[0m         \u001b[1;34m\"featured_image\"\u001b[0m\u001b[1;33m:\u001b[0m \u001b[0mfeatured_image\u001b[0m\u001b[1;33m(\u001b[0m\u001b[1;33m)\u001b[0m\u001b[1;33m,\u001b[0m\u001b[1;33m\u001b[0m\u001b[1;33m\u001b[0m\u001b[0m\n",
      "\u001b[1;31mNameError\u001b[0m: name 'news_title' is not defined"
     ]
    }
   ],
   "source": [
    "scrape_all()"
   ]
  },
  {
   "cell_type": "markdown",
   "metadata": {},
   "source": [
    "### Part 1.1 - NASA Mars News\n",
    "\n",
    "Scrape the NASA Mars News Site and collect the latest News Title and Paragraph Text. Assign the text to variables that you can reference later.  https://mars.nasa.gov/news/"
   ]
  },
  {
   "cell_type": "code",
   "execution_count": null,
   "metadata": {},
   "outputs": [],
   "source": [
    "def mars_news():\n",
    "    browser = init_browser()\n",
    "    url = \"https://mars.nasa.gov/news/\"\n",
    "    browser.visit(url)\n",
    "\n",
    "    # Get the first item, then wait 1 second\n",
    "    browser.is_element_present_by_css(\"ul.item_list li.slide\", wait_time=1.0)\n",
    "\n",
    "    html = browser.html\n",
    "    newsSoup = bs(html, \"html.parser\")\n",
    "\n",
    "    try:\n",
    "        slide_elem = newsSoup.select_one(\"ul.item_list li.slide\")\n",
    "        news_title = slide_elem.find(\"div\", class_=\"content_title\").get_text()\n",
    "        news_p = slide_elem.find(\n",
    "            \"div\", class_=\"article_teaser_body\").get_text()\n",
    "\n",
    "    except AttributeError:\n",
    "        return None, None\n",
    "\n",
    "    # Stop webdriver and return data\n",
    "    browser.quit()\n",
    "    return news_title, news_p\n"
   ]
  },
  {
   "cell_type": "code",
   "execution_count": null,
   "metadata": {},
   "outputs": [],
   "source": [
    "mars_news()"
   ]
  },
  {
   "cell_type": "markdown",
   "metadata": {},
   "source": [
    "### Part 1.2 - JPL Mars Space Images - Featured Image\n",
    "\n",
    "\n",
    "* Visit the url for JPL Featured Space Image here.  https://www.jpl.nasa.gov/spaceimages/?search=&category=Mars\n",
    "\n",
    "\n",
    "* Use splinter to navigate the site and find the image url for the current Featured Mars Image and assign the url string to a variable called featured_image_url.\n",
    "\n",
    "\n",
    "* Make sure to find the image url to the full size .jpg image.\n",
    "\n",
    "\n",
    "* Make sure to save a complete url string for this image."
   ]
  },
  {
   "cell_type": "code",
   "execution_count": null,
   "metadata": {},
   "outputs": [],
   "source": [
    "def featured_image():\n",
    "    browser = init_browser()\n",
    "    url = \"https://www.jpl.nasa.gov/spaceimages/?search=&category=Mars\"\n",
    "    browser.visit(url)\n",
    "\n",
    "    # Find and click the full image button\n",
    "    full_image_elem = browser.find_by_id(\"full_image\")\n",
    "    full_image_elem.click()\n",
    "\n",
    "    # Find & click the more info button\n",
    "    browser.is_element_present_by_text(\"more info\", wait_time=0.5)\n",
    "    more_info_elem = browser.find_link_by_partial_text(\"more info\")\n",
    "    more_info_elem.click()\n",
    "\n",
    "    # create soup object to parse the XML\n",
    "    html = browser.html\n",
    "    imageSoup = bs(html, \"html.parser\")\n",
    "\n",
    "    # Find the relative image url\n",
    "    img = imageSoup.select_one(\"figure.lede a img\")\n",
    "\n",
    "    try:\n",
    "        img_url_rel = img.get(\"src\")\n",
    "\n",
    "    except AttributeError:\n",
    "        return None\n",
    "\n",
    "    # Use the base url to create an absolute url\n",
    "    img_url = f\"https://www.jpl.nasa.gov{img_url_rel}\"\n",
    "\n",
    "    # Stop webdriver and return data\n",
    "    browser.quit()\n",
    "    return img_url"
   ]
  },
  {
   "cell_type": "code",
   "execution_count": null,
   "metadata": {},
   "outputs": [],
   "source": [
    "featured_image()"
   ]
  },
  {
   "cell_type": "markdown",
   "metadata": {},
   "source": [
    "### Part 1.3 - Mars Weather\n",
    "\n",
    "Visit the Mars Weather twitter account here and scrape the latest Mars weather tweet from the page. Save the tweet text for the weather report as a variable called mars_weather.\n",
    "https://twitter.com/marswxreport?lang=en"
   ]
  },
  {
   "cell_type": "code",
   "execution_count": null,
   "metadata": {},
   "outputs": [],
   "source": [
    "def twitter_weather():\n",
    "    browser = init_browser()\n",
    "    \n",
    "    #navigate to the site which will be scraped\n",
    "    url = 'https://twitter.com/marswxreport?lang=en'\n",
    "    browser.visit(url)\n",
    "    \n",
    "    # Retrieve page with the requests module\n",
    "    response = requests.get(url)\n",
    "    \n",
    "    # Create BeautifulSoup object of this URL with the featured image; parse with 'html.parser'\n",
    "    soup = bs(response.text, 'html.parser')\n",
    "    \n",
    "    #from the beautifulSoup, retrieve the link for the page containing the details of the image.  attribute = data-link.    \n",
    "    #NOTE:  since the instructions were to retrieve only the first weather report, then no index numbers\n",
    "    #because the first record is always returned\n",
    "\n",
    "    #as per example in homework instruction, the leading 'Insight' should not be present.\n",
    "    #Therefore, this was added:   .split(None, 1)[1]\n",
    "\n",
    "    latestWeather = soup.find('div',{\"class\": \"js-tweet-text-container\"}).text.split(None, 1)[1]\n",
    "    \n",
    "    # Stop webdriver and return data\n",
    "    browser.quit()\n",
    "    return (latestWeather)\n",
    "    "
   ]
  },
  {
   "cell_type": "code",
   "execution_count": null,
   "metadata": {},
   "outputs": [],
   "source": [
    "twitter_weather()"
   ]
  },
  {
   "cell_type": "markdown",
   "metadata": {},
   "source": [
    "### Part 1.4 - Mars Facts\n",
    "\n",
    "\n",
    "* Visit the Mars Facts webpage here and use Pandas to scrape the table containing facts about the planet including Diameter, Mass, etc.\n",
    "https://space-facts.com/mars/\n",
    "\n",
    "\n",
    "* Use Pandas to convert the data to a HTML table string."
   ]
  },
  {
   "cell_type": "code",
   "execution_count": null,
   "metadata": {},
   "outputs": [],
   "source": [
    "def mars_facts():\n",
    "    browser = init_browser()\n",
    "    #NOTE:  don't forget, import pandas as pd \n",
    "\n",
    "    #define the url\n",
    "    url = 'https://space-facts.com/mars/'\n",
    "    \n",
    "    #this will return all tables found.  (per eyeball check, on this page, there is only one table.)\n",
    "    tables = pd.read_html(url)\n",
    "    \n",
    "    #convert the table to a dataframe.   NOTE:   the [0] indicates the first table.  If there were more than one, remember to set the index.\n",
    "    marsFacts_df = tables[0]\n",
    "    marsFacts_df.columns = ['FactName', 'FactValue']\n",
    "    \n",
    "    #now that we have the df, convert it back to an HTML table\n",
    "    mars_HTML_table = marsFacts_df.to_html()\n",
    "    \n",
    "    # Stop webdriver and return data\n",
    "    browser.quit()\n",
    "    return mars_HTML_table\n",
    "    "
   ]
  },
  {
   "cell_type": "code",
   "execution_count": null,
   "metadata": {},
   "outputs": [],
   "source": [
    "mars_facts()"
   ]
  },
  {
   "cell_type": "markdown",
   "metadata": {},
   "source": [
    "### Part 1.5 - Mars Hemispheres\n",
    "\n",
    "\n",
    "* Visit the USGS Astrogeology site here to obtain high resolution images for each of Mar's hemispheres.  https://astrogeology.usgs.gov/search/results?q=hemisphere+enhanced&k1=target&v1=Mars\n",
    "\n",
    "\n",
    "* You will need to click each of the links to the hemispheres in order to find the image url to the full resolution image.\n",
    "\n",
    "\n",
    "* Save both the image url string for the full resolution hemisphere image, and the Hemisphere title containing the hemisphere name. Use a Python dictionary to store the data using the keys img_url and title.\n",
    "\n",
    "\n",
    "* Append the dictionary with the image url string and the hemisphere title to a list. This list will contain one dictionary for each hemisphere."
   ]
  },
  {
   "cell_type": "code",
   "execution_count": null,
   "metadata": {},
   "outputs": [],
   "source": [
    "def scrape_hemisphere(html_text):\n",
    "\n",
    "    # Soupify the html text\n",
    "    hemi_soup = bs(html_text, \"html.parser\")\n",
    "\n",
    "    # Try to get href and text except if error.\n",
    "    try:\n",
    "        title_elem = hemi_soup.find(\"h2\", class_=\"title\").get_text()\n",
    "        sample_elem = hemi_soup.find(\"a\", text=\"Sample\").get(\"href\")\n",
    "\n",
    "    except AttributeError:\n",
    "\n",
    "        # Image error returns None for better front-end handling\n",
    "        title_elem = None\n",
    "        sample_elem = None\n",
    "\n",
    "    hemisphere = {\n",
    "        \"title\": title_elem,\n",
    "        \"img_url\": sample_elem\n",
    "    }\n",
    "\n",
    "    return hemisphere"
   ]
  },
  {
   "cell_type": "code",
   "execution_count": null,
   "metadata": {},
   "outputs": [],
   "source": [
    "def hemispheres():\n",
    "     \n",
    "    browser = init_browser()\n",
    "    # Long URL can be on 2 lines as follows:\n",
    "    url = (\n",
    "        \"https://astrogeology.usgs.gov/search/\"\n",
    "        \"results?q=hemisphere+enhanced&k1=target&v1=Mars\"\n",
    "    )\n",
    "\n",
    "    browser.visit(url)\n",
    "\n",
    "    # to obtain the herf, click the link\n",
    "    hemisphere_image_urls = []\n",
    "    for each in range(4):\n",
    "\n",
    "        # Find the elements on each loop to avoid a stale element exception\n",
    "        browser.find_by_css(\"a.product-item h3\")[each].click()\n",
    "\n",
    "        hemi_data = scrape_hemisphere(browser.html)\n",
    "\n",
    "        # Append hemisphere object to list\n",
    "        hemisphere_image_urls.append(hemi_data)\n",
    "\n",
    "        # navigate back\n",
    "        browser.back()\n",
    " \n",
    "    # Stop webdriver and return data\n",
    "    browser.quit()\n",
    "    return hemisphere_image_urls"
   ]
  },
  {
   "cell_type": "code",
   "execution_count": null,
   "metadata": {},
   "outputs": [],
   "source": [
    "hemispheres()"
   ]
  },
  {
   "cell_type": "code",
   "execution_count": null,
   "metadata": {},
   "outputs": [],
   "source": []
  }
 ],
 "metadata": {
  "kernelspec": {
   "display_name": "Python 3",
   "language": "python",
   "name": "python3"
  },
  "language_info": {
   "codemirror_mode": {
    "name": "ipython",
    "version": 3
   },
   "file_extension": ".py",
   "mimetype": "text/x-python",
   "name": "python",
   "nbconvert_exporter": "python",
   "pygments_lexer": "ipython3",
   "version": "3.7.1"
  }
 },
 "nbformat": 4,
 "nbformat_minor": 2
}
