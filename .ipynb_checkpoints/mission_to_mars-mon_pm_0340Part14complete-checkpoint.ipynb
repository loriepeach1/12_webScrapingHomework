{
 "cells": [
  {
   "cell_type": "code",
   "execution_count": 497,
   "metadata": {},
   "outputs": [],
   "source": [
    "# Dependencies\n",
    "from bs4 import BeautifulSoup as bs\n",
    "import requests\n",
    "import pymongo\n",
    "import pandas as pd"
   ]
  },
  {
   "cell_type": "markdown",
   "metadata": {},
   "source": [
    "## Step 1 - Scraping\n",
    "Complete your initial scraping using Jupyter Notebook, BeautifulSoup, Pandas, and Requests/Splinter.\n",
    "\n",
    "<P> Create a Jupyter Notebook file called mission_to_mars.ipynb and use this to complete all of your scraping and analysis tasks. The following outlines what you need to scrape."
   ]
  },
  {
   "cell_type": "markdown",
   "metadata": {},
   "source": [
    "### Part 1.1 - NASA Mars News\n",
    "\n",
    "Scrape the NASA Mars News Site and collect the latest News Title and Paragraph Text. Assign the text to variables that you can reference later.  https://mars.nasa.gov/news/"
   ]
  },
  {
   "cell_type": "code",
   "execution_count": null,
   "metadata": {},
   "outputs": [],
   "source": [
    "# Initialize PyMongo to work with MongoDBs\n",
    "conn = 'mongodb://localhost:27017'\n",
    "client = pymongo.MongoClient(conn)"
   ]
  },
  {
   "cell_type": "code",
   "execution_count": null,
   "metadata": {},
   "outputs": [],
   "source": [
    "# Define database and collection\n",
    "db = client.marsArticles_db\n",
    "collection = db.articles"
   ]
  },
  {
   "cell_type": "code",
   "execution_count": null,
   "metadata": {},
   "outputs": [],
   "source": [
    "# URL of page to be scraped\n",
    "url = 'https://mars.nasa.gov/news/'"
   ]
  },
  {
   "cell_type": "code",
   "execution_count": null,
   "metadata": {},
   "outputs": [],
   "source": [
    "# Retrieve page with the requests module\n",
    "response = requests.get(url)"
   ]
  },
  {
   "cell_type": "code",
   "execution_count": null,
   "metadata": {},
   "outputs": [],
   "source": [
    "# Create BeautifulSoup object; parse with 'html.parser'\n",
    "soup = BeautifulSoup(response.text, 'html.parser')\n",
    "#soup = BeautifulSoup(response.text, 'lxml')\n"
   ]
  },
  {
   "cell_type": "code",
   "execution_count": null,
   "metadata": {},
   "outputs": [],
   "source": [
    "#find the container which hold each article title and description\n",
    "#results are returned as an iterable list\n",
    "results = soup.find_all('div', class_='slide')"
   ]
  },
  {
   "cell_type": "code",
   "execution_count": null,
   "metadata": {},
   "outputs": [],
   "source": [
    "#view the results to confirm the data.  'eyeball check'\n",
    "print(results)"
   ]
  },
  {
   "cell_type": "code",
   "execution_count": null,
   "metadata": {},
   "outputs": [],
   "source": [
    "# Loop through returned results\n",
    "for result in results:\n",
    "    # Error handling\n",
    "    try:\n",
    "        # Identify and return title of listing\n",
    "        news_title = result.find('div', class_=\"content_title\").text.strip()\n",
    "        #Identify the news text\n",
    "        news_text = result.find('div', class_=\"rollover_description_inner\").text.strip()\n",
    "\n",
    "\n",
    "        # Print results only if news title and news text are available\n",
    "        if (news_title and news_text):\n",
    "            print('-------------')\n",
    "            print(news_title)\n",
    "            print(news_text)\n",
    "            \n",
    "         # Dictionary to be inserted as a MongoDB document\n",
    "            post = {\n",
    "                'news_title': news_title,\n",
    "                'news_text': news_text\n",
    "            }\n",
    "\n",
    "            collection.insert_one(post)\n",
    "            \n",
    "    except AttributeError as e:\n",
    "        print(e)\n",
    "        \n",
    "    \n",
    "# ??   how do  I remove the extra hard returns?"
   ]
  },
  {
   "cell_type": "code",
   "execution_count": null,
   "metadata": {},
   "outputs": [],
   "source": [
    "# Display items in MongoDB collection\n",
    "listings = db.articles.find()\n",
    "\n",
    "for listing in listings:\n",
    "    print(listing)\n"
   ]
  },
  {
   "cell_type": "markdown",
   "metadata": {},
   "source": [
    "#### Part 1.1 is complete.   \n",
    "The page has been scraped and the results stored in the articles collection of a mongo database.   within the collection, the variable names are:    news_title and news_text"
   ]
  },
  {
   "cell_type": "markdown",
   "metadata": {},
   "source": [
    "### Part 1.2 - JPL Mars Space Images - Featured Image\n",
    "\n",
    "\n",
    "* Visit the url for JPL Featured Space Image here.  https://www.jpl.nasa.gov/spaceimages/?search=&category=Mars\n",
    "\n",
    "\n",
    "* Use splinter to navigate the site and find the image url for the current Featured Mars Image and assign the url string to a variable called featured_image_url.\n",
    "\n",
    "\n",
    "* Make sure to find the image url to the full size .jpg image.\n",
    "\n",
    "\n",
    "* Make sure to save a complete url string for this image."
   ]
  },
  {
   "cell_type": "code",
   "execution_count": null,
   "metadata": {},
   "outputs": [],
   "source": [
    "#NOTE:   I did not use splinter.  Re:  it was not needed as all the links were provided in the HTML.\n",
    "\n",
    "#ensure Chrome Driver is in the same directory as this notebook.   (Different for MAC user)\n",
    "executable_path = {'executable_path': 'chromedriver.exe'}\n",
    "browser = Browser('chrome', **executable_path, headless=False)\n",
    "\n",
    "#navigate to the site which will be scraped\n",
    "urlBase = 'https://www.jpl.nasa.gov'\n",
    "urlSearch = '/spaceimages/?search=&category=Mars'\n",
    "url12 = urlBase + urlSearch\n",
    "browser.visit(url12)"
   ]
  },
  {
   "cell_type": "code",
   "execution_count": null,
   "metadata": {},
   "outputs": [],
   "source": [
    "print(url12)"
   ]
  },
  {
   "cell_type": "markdown",
   "metadata": {},
   "source": [
    "Lorie's notes for location of the images\n",
    "\n",
    "The 'Full Image button has the following:\n",
    "<P>\n",
    "<a class=\"button fancybox\" data-description=\"Like a drop of dew hanging on a leaf, Tethys appears to be stuck to the A and F rings from this perspective of NASA's Cassini spacecraft.\" data-fancybox-group=\"images\" data-fancybox-href=\"/spaceimages/images/mediumsize/PIA18284_ip.jpg\" data-link=\"/spaceimages/details.php?id=PIA18284\" data-title=\"Stuck on the Rings\" id=\"full_image\">\n",
    "    \n",
    "*data-fancybox-href is to a medium sized image - THIS ONE IS INCORRECT.  Need the full resolution, not the medium size.\n",
    "    <BR>**https://www.jpl.nasa.gov/spaceimages/images/mediumsize/PIA18284_ip.jpg\n",
    "\n",
    "*data-link is to a page with the image and details.  From this page there is a link to DOWNLOAD the full resolution TFF and  vIEW the JPG\n",
    "    <BR>**https://www.jpl.nasa.gov/spaceimages/details.php?id=PIA18284\n",
    "    \n",
    "Full TIFF - not needed for this project\n",
    " https://photojournal.jpl.nasa.gov/tiff/PIA18284.tif\n",
    "\n",
    "FULL JPG - this is needed.   Will be saved as a variable.\n",
    "https://photojournal.jpl.nasa.gov/jpeg/PIA18284.jpg"
   ]
  },
  {
   "cell_type": "code",
   "execution_count": null,
   "metadata": {},
   "outputs": [],
   "source": [
    "# Retrieve page with the requests module\n",
    "response12 = requests.get(url12)"
   ]
  },
  {
   "cell_type": "code",
   "execution_count": null,
   "metadata": {},
   "outputs": [],
   "source": [
    "# Create BeautifulSoup object of this URL with the featured image; parse with 'html.parser'\n",
    "soup12 = BeautifulSoup(response12.text, 'html.parser')"
   ]
  },
  {
   "cell_type": "code",
   "execution_count": null,
   "metadata": {},
   "outputs": [],
   "source": [
    "#view to ensure the correct data ie, page\n",
    "print(soup12.prettify())"
   ]
  },
  {
   "cell_type": "code",
   "execution_count": null,
   "metadata": {},
   "outputs": [],
   "source": [
    "#from the beautifulSoup, retrieve the link for the page containing the details of the image.  attribute = data-link.    \n",
    "#attribute is NOT data-fancybox-href.   This is a link to the MEDIUM sized image.  We need the full size image. \n",
    "\n",
    "imagePageDesc = soup12.find('a',{\"class\": \"button fancybox\"})['data-link']\n",
    "print(imagePageDesc)"
   ]
  },
  {
   "cell_type": "code",
   "execution_count": null,
   "metadata": {},
   "outputs": [],
   "source": [
    "#Create the URL to the description Page\n",
    "url12a = urlBase + imagePageDesc\n",
    "print(url12a)"
   ]
  },
  {
   "cell_type": "code",
   "execution_count": null,
   "metadata": {},
   "outputs": [],
   "source": [
    "#the description page contains links to TWO images:   TFF and JPG.   \n",
    "# Retrieve page with the requests module\n",
    "response12a = requests.get(url12a)"
   ]
  },
  {
   "cell_type": "code",
   "execution_count": null,
   "metadata": {},
   "outputs": [],
   "source": [
    "# Create BeautifulSoup object of this URL with the featured image; parse with 'html.parser'\n",
    "soup12a = BeautifulSoup(response12a.text, 'html.parser')"
   ]
  },
  {
   "cell_type": "code",
   "execution_count": null,
   "metadata": {},
   "outputs": [],
   "source": [
    "#view to ensure the correct data ie, page\n",
    "print(soup12a.prettify())"
   ]
  },
  {
   "cell_type": "code",
   "execution_count": null,
   "metadata": {},
   "outputs": [],
   "source": [
    "#from the beautifulSoup, find the links to the images\n",
    "images = soup12a.find_all('div',{\"class\": \"download_tiff\"})\n",
    "print(images)"
   ]
  },
  {
   "cell_type": "code",
   "execution_count": null,
   "metadata": {},
   "outputs": [],
   "source": [
    "#data containign the JPG details\n",
    "imageDataJ = soup12a.find_all('div',{\"class\": \"download_tiff\"})[1]\n",
    "print(imageDataJ)"
   ]
  },
  {
   "cell_type": "code",
   "execution_count": null,
   "metadata": {},
   "outputs": [],
   "source": [
    "#URL for the JPG Image\n",
    "imageJ = imageDataJ.find('a')['href']\n",
    "print(imageJ)"
   ]
  },
  {
   "cell_type": "code",
   "execution_count": null,
   "metadata": {},
   "outputs": [],
   "source": [
    "#Create theURLs for both images\n",
    "imageBase = \"https:\"\n",
    "imageLinkJ = imageBase + imageJ\n",
    "\n",
    "print(\"The URL for the jpg image is: \" + imageLinkJ)"
   ]
  },
  {
   "cell_type": "markdown",
   "metadata": {},
   "source": [
    "#### Part 1.2 is complete.  "
   ]
  },
  {
   "cell_type": "markdown",
   "metadata": {},
   "source": [
    "### Part 1.3 - Mars Weather\n",
    "\n",
    "Visit the Mars Weather twitter account here and scrape the latest Mars weather tweet from the page. Save the tweet text for the weather report as a variable called mars_weather.\n",
    "https://twitter.com/marswxreport?lang=en"
   ]
  },
  {
   "cell_type": "code",
   "execution_count": null,
   "metadata": {},
   "outputs": [],
   "source": [
    "#ensure Chrome Driver is in the same directory as this notebook.   (Different for MAC user)\n",
    "#DO NOT NEED TO DO since this was completed in this notebook in part 1.2\n",
    "#executable_path = {'executable_path': 'chromedriver.exe'}\n",
    "#browser = Browser('chrome', **executable_path, headless=False)\n",
    "\n",
    "#navigate to the site which will be scraped\n",
    "url13 = 'https://twitter.com/marswxreport?lang=en'\n",
    "browser.visit(url13)"
   ]
  },
  {
   "cell_type": "code",
   "execution_count": null,
   "metadata": {},
   "outputs": [],
   "source": [
    "# Retrieve page with the requests module\n",
    "response13 = requests.get(url13)"
   ]
  },
  {
   "cell_type": "code",
   "execution_count": null,
   "metadata": {},
   "outputs": [],
   "source": [
    "# Create BeautifulSoup object of this URL with the featured image; parse with 'html.parser'\n",
    "soup13 = BeautifulSoup(response13.text, 'html.parser')"
   ]
  },
  {
   "cell_type": "code",
   "execution_count": null,
   "metadata": {},
   "outputs": [],
   "source": [
    "#view to ensure the correct data ie, page\n",
    "print(soup13.prettify())"
   ]
  },
  {
   "cell_type": "code",
   "execution_count": null,
   "metadata": {},
   "outputs": [],
   "source": [
    "#from the beautifulSoup, retrieve the link for the page containing the details of the image.  attribute = data-link.    \n",
    "#NOTE:  since the instructions were to retrieve only the first weather report, then no index numbers\n",
    "#because the first record is always returned\n",
    "\n",
    "#as per example in homework instruction, the leading 'Insight' should not be present.\n",
    "#Therefore, this was added:   .split(None, 1)[1]\n",
    "\n",
    "latestWeather = soup13.find('div',{\"class\": \"js-tweet-text-container\"}).text.split(None, 1)[1]\n",
    "print(latestWeather)"
   ]
  },
  {
   "cell_type": "markdown",
   "metadata": {},
   "source": [
    "#### Part 1.3 is complete.  "
   ]
  },
  {
   "cell_type": "markdown",
   "metadata": {},
   "source": [
    "### Part 1.4 - Mars Facts\n",
    "\n",
    "\n",
    "* Visit the Mars Facts webpage here and use Pandas to scrape the table containing facts about the planet including Diameter, Mass, etc.\n",
    "https://space-facts.com/mars/\n",
    "\n",
    "\n",
    "* Use Pandas to convert the data to a HTML table string."
   ]
  },
  {
   "cell_type": "code",
   "execution_count": 495,
   "metadata": {},
   "outputs": [],
   "source": [
    "#ASSUMPTION:    the entire page is called Mars Facts.   After viewing the HTML code, there is only one <table> element.   \n",
    "# Therefore, I think this is the table referenced in the instructions."
   ]
  },
  {
   "cell_type": "code",
   "execution_count": 498,
   "metadata": {},
   "outputs": [],
   "source": [
    "#if not already completed:\n",
    "#import pandas as pd \n",
    "\n",
    "#define the url\n",
    "url14 = 'https://space-facts.com/mars/'"
   ]
  },
  {
   "cell_type": "code",
   "execution_count": 500,
   "metadata": {},
   "outputs": [
    {
     "data": {
      "text/plain": [
       "[                      0                              1\n",
       " 0  Equatorial Diameter:                       6,792 km\n",
       " 1       Polar Diameter:                       6,752 km\n",
       " 2                 Mass:  6.42 x 10^23 kg (10.7% Earth)\n",
       " 3                Moons:            2 (Phobos & Deimos)\n",
       " 4       Orbit Distance:       227,943,824 km (1.52 AU)\n",
       " 5         Orbit Period:           687 days (1.9 years)\n",
       " 6  Surface Temperature:                  -153 to 20 °C\n",
       " 7         First Record:              2nd millennium BC\n",
       " 8          Recorded By:           Egyptian astronomers]"
      ]
     },
     "execution_count": 500,
     "metadata": {},
     "output_type": "execute_result"
    }
   ],
   "source": [
    "#this will return all tables found.  on this page, there is only one table.\n",
    "\n",
    "tables = pd.read_html(url14)\n",
    "tables"
   ]
  },
  {
   "cell_type": "code",
   "execution_count": 501,
   "metadata": {},
   "outputs": [
    {
     "data": {
      "text/plain": [
       "list"
      ]
     },
     "execution_count": 501,
     "metadata": {},
     "output_type": "execute_result"
    }
   ],
   "source": [
    "type(tables)"
   ]
  },
  {
   "cell_type": "code",
   "execution_count": 503,
   "metadata": {},
   "outputs": [
    {
     "data": {
      "text/html": [
       "<div>\n",
       "<style scoped>\n",
       "    .dataframe tbody tr th:only-of-type {\n",
       "        vertical-align: middle;\n",
       "    }\n",
       "\n",
       "    .dataframe tbody tr th {\n",
       "        vertical-align: top;\n",
       "    }\n",
       "\n",
       "    .dataframe thead th {\n",
       "        text-align: right;\n",
       "    }\n",
       "</style>\n",
       "<table border=\"1\" class=\"dataframe\">\n",
       "  <thead>\n",
       "    <tr style=\"text-align: right;\">\n",
       "      <th></th>\n",
       "      <th>FactName</th>\n",
       "      <th>FactValue</th>\n",
       "    </tr>\n",
       "  </thead>\n",
       "  <tbody>\n",
       "    <tr>\n",
       "      <th>0</th>\n",
       "      <td>Equatorial Diameter:</td>\n",
       "      <td>6,792 km</td>\n",
       "    </tr>\n",
       "    <tr>\n",
       "      <th>1</th>\n",
       "      <td>Polar Diameter:</td>\n",
       "      <td>6,752 km</td>\n",
       "    </tr>\n",
       "    <tr>\n",
       "      <th>2</th>\n",
       "      <td>Mass:</td>\n",
       "      <td>6.42 x 10^23 kg (10.7% Earth)</td>\n",
       "    </tr>\n",
       "    <tr>\n",
       "      <th>3</th>\n",
       "      <td>Moons:</td>\n",
       "      <td>2 (Phobos &amp; Deimos)</td>\n",
       "    </tr>\n",
       "    <tr>\n",
       "      <th>4</th>\n",
       "      <td>Orbit Distance:</td>\n",
       "      <td>227,943,824 km (1.52 AU)</td>\n",
       "    </tr>\n",
       "    <tr>\n",
       "      <th>5</th>\n",
       "      <td>Orbit Period:</td>\n",
       "      <td>687 days (1.9 years)</td>\n",
       "    </tr>\n",
       "    <tr>\n",
       "      <th>6</th>\n",
       "      <td>Surface Temperature:</td>\n",
       "      <td>-153 to 20 °C</td>\n",
       "    </tr>\n",
       "    <tr>\n",
       "      <th>7</th>\n",
       "      <td>First Record:</td>\n",
       "      <td>2nd millennium BC</td>\n",
       "    </tr>\n",
       "    <tr>\n",
       "      <th>8</th>\n",
       "      <td>Recorded By:</td>\n",
       "      <td>Egyptian astronomers</td>\n",
       "    </tr>\n",
       "  </tbody>\n",
       "</table>\n",
       "</div>"
      ],
      "text/plain": [
       "               FactName                      FactValue\n",
       "0  Equatorial Diameter:                       6,792 km\n",
       "1       Polar Diameter:                       6,752 km\n",
       "2                 Mass:  6.42 x 10^23 kg (10.7% Earth)\n",
       "3                Moons:            2 (Phobos & Deimos)\n",
       "4       Orbit Distance:       227,943,824 km (1.52 AU)\n",
       "5         Orbit Period:           687 days (1.9 years)\n",
       "6  Surface Temperature:                  -153 to 20 °C\n",
       "7         First Record:              2nd millennium BC\n",
       "8          Recorded By:           Egyptian astronomers"
      ]
     },
     "execution_count": 503,
     "metadata": {},
     "output_type": "execute_result"
    }
   ],
   "source": [
    "#convert the table to a dataframe.   NOTE:   the [0] indicates the first table.  If there were more than one, remember to set the index.\n",
    "marsFacts_df = tables[0]\n",
    "marsFacts_df.columns = ['FactName', 'FactValue']\n",
    "marsFacts_df.head(20)"
   ]
  },
  {
   "cell_type": "code",
   "execution_count": 504,
   "metadata": {},
   "outputs": [
    {
     "data": {
      "text/plain": [
       "'<table border=\"1\" class=\"dataframe\">\\n  <thead>\\n    <tr style=\"text-align: right;\">\\n      <th></th>\\n      <th>FactName</th>\\n      <th>FactValue</th>\\n    </tr>\\n  </thead>\\n  <tbody>\\n    <tr>\\n      <th>0</th>\\n      <td>Equatorial Diameter:</td>\\n      <td>6,792 km</td>\\n    </tr>\\n    <tr>\\n      <th>1</th>\\n      <td>Polar Diameter:</td>\\n      <td>6,752 km</td>\\n    </tr>\\n    <tr>\\n      <th>2</th>\\n      <td>Mass:</td>\\n      <td>6.42 x 10^23 kg (10.7% Earth)</td>\\n    </tr>\\n    <tr>\\n      <th>3</th>\\n      <td>Moons:</td>\\n      <td>2 (Phobos &amp; Deimos)</td>\\n    </tr>\\n    <tr>\\n      <th>4</th>\\n      <td>Orbit Distance:</td>\\n      <td>227,943,824 km (1.52 AU)</td>\\n    </tr>\\n    <tr>\\n      <th>5</th>\\n      <td>Orbit Period:</td>\\n      <td>687 days (1.9 years)</td>\\n    </tr>\\n    <tr>\\n      <th>6</th>\\n      <td>Surface Temperature:</td>\\n      <td>-153 to 20 °C</td>\\n    </tr>\\n    <tr>\\n      <th>7</th>\\n      <td>First Record:</td>\\n      <td>2nd millennium BC</td>\\n    </tr>\\n    <tr>\\n      <th>8</th>\\n      <td>Recorded By:</td>\\n      <td>Egyptian astronomers</td>\\n    </tr>\\n  </tbody>\\n</table>'"
      ]
     },
     "execution_count": 504,
     "metadata": {},
     "output_type": "execute_result"
    }
   ],
   "source": [
    "#now that we have the df, convert it back to an HTML table\n",
    "\n",
    "mars_HTML_table = marsFacts_df.to_html()\n",
    "mars_HTML_table"
   ]
  },
  {
   "cell_type": "markdown",
   "metadata": {},
   "source": [
    "#### Part 1.4 is complete.  "
   ]
  },
  {
   "cell_type": "markdown",
   "metadata": {},
   "source": [
    "### Part 1.5 - Mars Hemispheres\n",
    "\n",
    "\n",
    "* Visit the USGS Astrogeology site here to obtain high resolution images for each of Mar's hemispheres.  https://astrogeology.usgs.gov/search/results?q=hemisphere+enhanced&k1=target&v1=Mars\n",
    "\n",
    "\n",
    "* You will need to click each of the links to the hemispheres in order to find the image url to the full resolution image.\n",
    "\n",
    "\n",
    "* Save both the image url string for the full resolution hemisphere image, and the Hemisphere title containing the hemisphere name. Use a Python dictionary to store the data using the keys img_url and title.\n",
    "\n",
    "\n",
    "* Append the dictionary with the image url string and the hemisphere title to a list. This list will contain one dictionary for each hemisphere."
   ]
  },
  {
   "cell_type": "code",
   "execution_count": null,
   "metadata": {},
   "outputs": [],
   "source": []
  }
 ],
 "metadata": {
  "kernelspec": {
   "display_name": "Python 3",
   "language": "python",
   "name": "python3"
  },
  "language_info": {
   "codemirror_mode": {
    "name": "ipython",
    "version": 3
   },
   "file_extension": ".py",
   "mimetype": "text/x-python",
   "name": "python",
   "nbconvert_exporter": "python",
   "pygments_lexer": "ipython3",
   "version": "3.7.1"
  }
 },
 "nbformat": 4,
 "nbformat_minor": 2
}
